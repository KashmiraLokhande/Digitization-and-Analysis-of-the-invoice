{
 "cells": [
  {
   "cell_type": "code",
   "execution_count": 1,
   "metadata": {},
   "outputs": [],
   "source": [
    "import math\n",
    "import pandas as pd\n",
    "import matplotlib.pyplot as plt\n",
    "import os\n",
    "import re\n",
    "import editdistance as ed"
   ]
  },
  {
   "cell_type": "code",
   "execution_count": 2,
   "metadata": {},
   "outputs": [],
   "source": [
    "def read_text(path):\n",
    "    file = open(path,'r')\n",
    "    data = file.readlines() \n",
    "    file.close()\n",
    "    return data"
   ]
  },
  {
   "cell_type": "code",
   "execution_count": 3,
   "metadata": {},
   "outputs": [],
   "source": [
    "def cal_measure(lines):\n",
    "    sum=0\n",
    "    distances=[]\n",
    "    for i in range(0,(len(lines)-1)):\n",
    "        line1,line2 = re.split(r'\\t+',lines[i]),re.split(r'\\t+',lines[i+1])\n",
    "        for word1,word2 in zip(line1,line2):\n",
    "            dist = ed.eval(word1,word2)\n",
    "            distances.append(dist)\n",
    "            measure =dist/max(len(line1),len(line2))\n",
    "            sum =sum +measure\n",
    "    lim = math.sqrt((sum/len(lines)))\n",
    "    return lim,distances"
   ]
  },
  {
   "cell_type": "code",
   "execution_count": 4,
   "metadata": {},
   "outputs": [],
   "source": [
    "def ExtractTable(lines,lim):\n",
    "    table=[]\n",
    "    measure1=[]\n",
    "    for i in range(0,(len(lines)-1)):\n",
    "        line1,line2 = re.split(r'\\t+',lines[i]),re.split(r'\\t+',lines[i+1])\n",
    "        for word1,word2 in zip(line1,line2):\n",
    "            measure = ed.eval(word1,word2)/max(len(line1),len(line2))\n",
    "            measure1.append(measure)\n",
    "        if measure<lim:\n",
    "            table.append(line2)\n",
    "    return table"
   ]
  },
  {
   "cell_type": "code",
   "execution_count": 5,
   "metadata": {},
   "outputs": [],
   "source": [
    "def createCSV(table,out_filename):\n",
    "    df = pd.DataFrame(table)\n",
    "    df.to_csv(out_filename,index=False,header = False)\n",
    "    return True"
   ]
  },
  {
   "cell_type": "code",
   "execution_count": 6,
   "metadata": {},
   "outputs": [],
   "source": [
    "def plotDistances(distances):\n",
    "    plt.plot(distances)\n",
    "    plt.ylabel('some numbers')\n",
    "    plt.show()\n",
    "    return True"
   ]
  },
  {
   "cell_type": "code",
   "execution_count": 7,
   "metadata": {},
   "outputs": [],
   "source": [
    "def ExtractPan(text):\n",
    "    PANpattern = re.compile(r\"[\\s]+[A-Z]{3}[PHFATBCLJG]{1}[a-zA-Z]{1}[0-9]{3}[A-Z0-9]*\")\n",
    "    for w in range(0,len(text)):\n",
    "        PANres = PANpattern.search(text[w])\n",
    "        if PANres:\n",
    "            PAN_no = PANres.group()\n",
    "            return PAN_no"
   ]
  },
  {
   "cell_type": "code",
   "execution_count": 8,
   "metadata": {},
   "outputs": [],
   "source": [
    "def ExtractGSTIN(text):\n",
    "    GSTINpattern=re.compile(r\"[0-9]{2}[a-zA-Z]{5}[0-9]{4}[a-zA-Z]*[0-9]*[a-zA-Z0-9]*\")\n",
    "    for w in range(0,len(text)):\n",
    "        GSTINres=GSTINpattern.search(text[w])        \n",
    "        if GSTINres:\n",
    "            GSTIN_no = GSTINres.group()\n",
    "            return GSTIN_no"
   ]
  },
  {
   "cell_type": "code",
   "execution_count": 9,
   "metadata": {},
   "outputs": [],
   "source": [
    "def ExtractEmail(text):\n",
    "    Emailpattern = re.compile(r\"\\w+@[a-zA-Z_]+?\\.[a-zA-Z]{2,3}\")\n",
    "    for w in range(0,len(text)):\n",
    "        Emailres=Emailpattern.search(text[w])        \n",
    "        if Emailres:\n",
    "            Email = Emailres.group()\n",
    "            return Email"
   ]
  },
  {
   "cell_type": "code",
   "execution_count": 10,
   "metadata": {},
   "outputs": [],
   "source": [
    "def ExtractPhone(text):\n",
    "    PHONEpattern = re.compile(r\"[\\s]+((\\+91[\\-\\s]?)?[0]?(91)?[789]\\d{9})[\\s]*[/]*[,]*[\\s]*((\\+91[\\-\\s]?)?[0]?(91)?[789]\\d{9})*\")\n",
    "    for w in range(0,len(text)):\n",
    "        PHONEres = PHONEpattern.search(text[w])\n",
    "        if PHONEres:\n",
    "            PHONE_no = PHONEres.group()\n",
    "            return PHONE_no.strip()"
   ]
  },
  {
   "cell_type": "code",
   "execution_count": 11,
   "metadata": {},
   "outputs": [],
   "source": [
    "def ExtractDate(text):\n",
    "    DATEpattern = re.compile(r\"\\d{2}[.|-]+[a-zA-Z]*[0-9]*[.|-]+[0-9]*\")\n",
    "    for w in range(0,len(text)):\n",
    "        DATEres = DATEpattern.search(text[w])\n",
    "        if DATEres:\n",
    "            DATE = DATEres.group()\n",
    "            return DATE"
   ]
  },
  {
   "cell_type": "code",
   "execution_count": 12,
   "metadata": {},
   "outputs": [],
   "source": [
    "def ExtractHeader(text):\n",
    "    Companypattern = re.compile(r\"[A-Z]+[.]*[\\s]*[A-Z]+[.]*[\\s]*[A-Z0-9]*[\\n]\")\n",
    "    for w in range(0,len(text)):\n",
    "        Companyres = Companypattern.search(text[w])\n",
    "        if Companyres:\n",
    "            Companyname = Companyres.group()\n",
    "            return Companyname.strip()"
   ]
  },
  {
   "cell_type": "code",
   "execution_count": 13,
   "metadata": {},
   "outputs": [],
   "source": [
    "def ExtractData(text):\n",
    "    values={}\n",
    "    values['PAN'] = ExtractPan(text)\n",
    "    values['GSTIN'] = ExtractGSTIN(text)\n",
    "    values['Email'] = ExtractEmail(text)\n",
    "    values['PhoneNum'] = ExtractPhone(text)\n",
    "    values['Date'] = ExtractDate(text)\n",
    "    values['Header'] = ExtractHeader(text)\n",
    "    return values\n",
    "    "
   ]
  },
  {
   "cell_type": "code",
   "execution_count": 14,
   "metadata": {
    "scrolled": true
   },
   "outputs": [],
   "source": [
    "def main():\n",
    "    in_file = os.path.abspath(input('Please Enter path of OCRed Text'))\n",
    "    out_file = os.path.dirname(in_file) + \"\\\\\" + os.path.splitext(os.path.basename(in_file))[0] +\".csv\"\n",
    "    \n",
    "    text=read_text(in_file) #returns lines from a txt file\n",
    "    \n",
    "    measure,distances = cal_measure(text)\n",
    "    tableContent = ExtractTable(text,measure)\n",
    "    \n",
    "    csv = createCSV(tableContent,out_file)\n",
    "    metaData = ExtractData(text)\n",
    "    print(metaData)\n",
    "    #plotDistances(distances)\n"
   ]
  },
  {
   "cell_type": "code",
   "execution_count": 16,
   "metadata": {},
   "outputs": [
    {
     "name": "stdout",
     "output_type": "stream",
     "text": [
      "Please Enter path of OCRed TextC:\\Users\\Kashmira Lokhande\\Desktop\\dosaidli.txt\n",
      "{'PAN': None, 'GSTIN': '27AENPN0622R2ZQ', 'Email': None, 'PhoneNum': '9822072728', 'Date': None, 'Header': 'NAADBRAMHA'}\n"
     ]
    }
   ],
   "source": [
    "main()"
   ]
  },
  {
   "cell_type": "code",
   "execution_count": null,
   "metadata": {},
   "outputs": [],
   "source": []
  },
  {
   "cell_type": "code",
   "execution_count": null,
   "metadata": {},
   "outputs": [],
   "source": []
  }
 ],
 "metadata": {
  "kernelspec": {
   "display_name": "Python 3 (ipykernel)",
   "language": "python",
   "name": "python3"
  },
  "language_info": {
   "codemirror_mode": {
    "name": "ipython",
    "version": 3
   },
   "file_extension": ".py",
   "mimetype": "text/x-python",
   "name": "python",
   "nbconvert_exporter": "python",
   "pygments_lexer": "ipython3",
   "version": "3.9.7"
  }
 },
 "nbformat": 4,
 "nbformat_minor": 2
}
